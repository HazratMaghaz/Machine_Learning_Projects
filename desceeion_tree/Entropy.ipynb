{
 "cells": [
  {
   "cell_type": "code",
   "execution_count": 4,
   "metadata": {},
   "outputs": [],
   "source": [
    "import math\n",
    "A = 4\n",
    "B = 6\n",
    "total = A + B \n"
   ]
  },
  {
   "cell_type": "code",
   "execution_count": 5,
   "metadata": {},
   "outputs": [
    {
     "name": "stdout",
     "output_type": "stream",
     "text": [
      "Proportion of A:  0.4\n",
      "Proportion of B:  0.6\n"
     ]
    }
   ],
   "source": [
    "# lets caculate the porportions \n",
    "A = A / total\n",
    "B = B / total\n",
    "\n",
    "# print the proportions\n",
    "print(\"Proportion of A: \" , A)\n",
    "print(\"Proportion of B: \" , B)"
   ]
  },
  {
   "cell_type": "code",
   "execution_count": 8,
   "metadata": {},
   "outputs": [
    {
     "name": "stdout",
     "output_type": "stream",
     "text": [
      "Entropy: 0.9709505944546686\n"
     ]
    }
   ],
   "source": [
    "# Entropy Calculations\n",
    "entropy = -A*math.log2(A) - B*math.log2(B)\n",
    "print(\"Entropy:\" , entropy)"
   ]
  },
  {
   "cell_type": "code",
   "execution_count": 9,
   "metadata": {},
   "outputs": [
    {
     "name": "stdout",
     "output_type": "stream",
     "text": [
      "gini:  0.48\n"
     ]
    }
   ],
   "source": [
    "# Gini Impurity\n",
    "gini = 1-A**2 - B**2\n",
    "print(\"gini: \", gini)"
   ]
  },
  {
   "cell_type": "code",
   "execution_count": 10,
   "metadata": {},
   "outputs": [
    {
     "name": "stdout",
     "output_type": "stream",
     "text": [
      "Information Gain:  0.0\n"
     ]
    }
   ],
   "source": [
    "# Information Gain\n",
    "# Assuming a split on some feature divides the dataset into two subsets\n",
    "# Subset 1: 2 elements of A, 3 of B\n",
    "# Subset 2: 2 elements of A, 3 of B\n",
    "# Entropy and size for each subset\n",
    "n_1_A, n_1_B = 2, 3\n",
    "n_2_A, n_2_B = 2, 3\n",
    "\n",
    "p_1_A = n_1_A / (n_1_A + n_1_B)\n",
    "p_1_B = n_1_B / (n_1_A + n_1_B)\n",
    "entropy_1 = -p_1_A * math.log2(p_1_A) - p_1_B * math.log2(p_1_B) if p_1_A and p_1_B else 0\n",
    "\n",
    "p_2_A = n_2_A / (n_2_A + n_2_B)\n",
    "p_2_B = n_2_B / (n_2_A + n_2_B)\n",
    "entropy_2 = -p_2_A * math.log2(p_2_A) - p_2_B * math.log2(p_2_B) if p_2_A and p_2_B else 0\n",
    "\n",
    "# Calculating information gain\n",
    "info_gain = entropy - ((n_1_A + n_1_B) / total * entropy_1 + (n_2_A + n_2_B) / total * entropy_2)\n",
    "print(\"Information Gain: \", info_gain)"
   ]
  }
 ],
 "metadata": {
  "kernelspec": {
   "display_name": "Python 3",
   "language": "python",
   "name": "python3"
  },
  "language_info": {
   "codemirror_mode": {
    "name": "ipython",
    "version": 3
   },
   "file_extension": ".py",
   "mimetype": "text/x-python",
   "name": "python",
   "nbconvert_exporter": "python",
   "pygments_lexer": "ipython3",
   "version": "3.12.6"
  }
 },
 "nbformat": 4,
 "nbformat_minor": 2
}
